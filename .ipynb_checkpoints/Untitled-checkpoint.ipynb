{
 "cells": [
  {
   "cell_type": "code",
   "execution_count": null,
   "metadata": {},
   "outputs": [
    {
     "name": "stdout",
     "output_type": "stream",
     "text": [
      "Enter Number of Datanodes : 2\n",
      "Enter Datanode 0 IP : 1.2.3.4\n",
      "['1.2.3.4']\n",
      "Enter Datanode 2 Username : ec2-user\n",
      "['ec2-user']\n"
     ]
    }
   ],
   "source": [
    "dataNodeCount = int(input(\"Enter Number of Datanodes : \"))\n",
    "\n",
    "\n",
    "\n",
    "dataNodeIPs = []\n",
    "dataNodeUsers = [] \n",
    "count = 0 \n",
    "\n",
    "for count in range(dataNodeCount):\n",
    "    dataNodeIP = input(\"Enter Datanode {0} IP : \".format(count))\n",
    "    dataNodeIPs.append(dataNodeIP)\n",
    "    print(dataNodeIPs)\n",
    "\n",
    "    dataNodeUser = input(\"Enter Datanode {0} Username : \".format(count))\n",
    "    dataNodeUsers.append(dataNodeUser)\n",
    "    print(dataNodeUsers)"
   ]
  },
  {
   "cell_type": "code",
   "execution_count": null,
   "metadata": {},
   "outputs": [],
   "source": []
  },
  {
   "cell_type": "code",
   "execution_count": null,
   "metadata": {},
   "outputs": [],
   "source": []
  }
 ],
 "metadata": {
  "kernelspec": {
   "display_name": "Python 3",
   "language": "python",
   "name": "python3"
  },
  "language_info": {
   "codemirror_mode": {
    "name": "ipython",
    "version": 3
   },
   "file_extension": ".py",
   "mimetype": "text/x-python",
   "name": "python",
   "nbconvert_exporter": "python",
   "pygments_lexer": "ipython3",
   "version": "3.8.5"
  }
 },
 "nbformat": 4,
 "nbformat_minor": 4
}
